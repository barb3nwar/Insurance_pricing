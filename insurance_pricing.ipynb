{
 "cells": [
  {
   "cell_type": "markdown",
   "metadata": {},
   "source": [
    "# EXPLORATORY DATA ANALYSIS"
   ]
  },
  {
   "cell_type": "markdown",
   "metadata": {},
   "source": [
    "## Loading & First exploration"
   ]
  },
  {
   "cell_type": "markdown",
   "metadata": {},
   "source": [
    "This section is a preliminatory datasets exploration, in order to have a first idea of the four datasets, to look for any missing values and outliers."
   ]
  },
  {
   "cell_type": "markdown",
   "metadata": {},
   "source": [
    "### Preliminary loading "
   ]
  },
  {
   "cell_type": "code",
   "execution_count": 309,
   "metadata": {
    "ExecuteTime": {
     "end_time": "2020-11-28T12:30:18.684989Z",
     "start_time": "2020-11-28T12:30:18.679302Z"
    }
   },
   "outputs": [],
   "source": [
    "#Loading necessary packages\n",
    "import pandas as pd\n",
    "import numpy as np\n",
    "import math\n",
    "import matplotlib.pyplot as plt\n",
    "import seaborn as sns\n",
    "from datetime import datetime, timedelta\n",
    "from scipy import stats\n",
    "from sklearn.model_selection import train_test_split\n",
    "from sklearn.datasets import make_regression\n",
    "from sklearn.linear_model import LinearRegression\n",
    "from sklearn.ensemble import RandomForestRegressor"
   ]
  },
  {
   "cell_type": "code",
   "execution_count": 204,
   "metadata": {
    "ExecuteTime": {
     "end_time": "2020-11-28T12:07:38.572685Z",
     "start_time": "2020-11-28T12:07:37.711095Z"
    }
   },
   "outputs": [],
   "source": [
    "#Loading the datasets\n",
    "df_prices = pd.read_csv(\"quote_prices.csv\", sep = \",\")\n",
    "df_postcode = pd.read_csv(\"postcode_sector_data.csv\", sep = \",\")\n",
    "df_authority = pd.read_csv(\"local_authority_data.csv\", sep = \",\")"
   ]
  },
  {
   "cell_type": "code",
   "execution_count": 205,
   "metadata": {
    "ExecuteTime": {
     "end_time": "2020-11-28T12:07:38.588048Z",
     "start_time": "2020-11-28T12:07:38.575975Z"
    }
   },
   "outputs": [
    {
     "data": {
      "text/html": [
       "<div>\n",
       "<style scoped>\n",
       "    .dataframe tbody tr th:only-of-type {\n",
       "        vertical-align: middle;\n",
       "    }\n",
       "\n",
       "    .dataframe tbody tr th {\n",
       "        vertical-align: top;\n",
       "    }\n",
       "\n",
       "    .dataframe thead th {\n",
       "        text-align: right;\n",
       "    }\n",
       "</style>\n",
       "<table border=\"1\" class=\"dataframe\">\n",
       "  <thead>\n",
       "    <tr style=\"text-align: right;\">\n",
       "      <th></th>\n",
       "      <th>postcode</th>\n",
       "      <th>premium_price</th>\n",
       "    </tr>\n",
       "  </thead>\n",
       "  <tbody>\n",
       "    <tr>\n",
       "      <td>0</td>\n",
       "      <td>B975BQ</td>\n",
       "      <td>324.58</td>\n",
       "    </tr>\n",
       "    <tr>\n",
       "      <td>1</td>\n",
       "      <td>UB33PN</td>\n",
       "      <td>3245.06</td>\n",
       "    </tr>\n",
       "    <tr>\n",
       "      <td>2</td>\n",
       "      <td>RH149XP</td>\n",
       "      <td>197.84</td>\n",
       "    </tr>\n",
       "    <tr>\n",
       "      <td>3</td>\n",
       "      <td>W130AG</td>\n",
       "      <td>1253.53</td>\n",
       "    </tr>\n",
       "    <tr>\n",
       "      <td>4</td>\n",
       "      <td>M145DT</td>\n",
       "      <td>514.05</td>\n",
       "    </tr>\n",
       "  </tbody>\n",
       "</table>\n",
       "</div>"
      ],
      "text/plain": [
       "  postcode  premium_price\n",
       "0   B975BQ         324.58\n",
       "1   UB33PN        3245.06\n",
       "2  RH149XP         197.84\n",
       "3   W130AG        1253.53\n",
       "4   M145DT         514.05"
      ]
     },
     "execution_count": 205,
     "metadata": {},
     "output_type": "execute_result"
    }
   ],
   "source": [
    "df_prices.head()"
   ]
  },
  {
   "cell_type": "code",
   "execution_count": 206,
   "metadata": {
    "ExecuteTime": {
     "end_time": "2020-11-28T12:07:39.034967Z",
     "start_time": "2020-11-28T12:07:38.593929Z"
    }
   },
   "outputs": [],
   "source": [
    "# Find the postcode sector for each postcode\n",
    "df_prices['postcode_sector'] = df_prices['postcode'].apply(lambda x :x[:-2])"
   ]
  },
  {
   "cell_type": "code",
   "execution_count": 207,
   "metadata": {
    "ExecuteTime": {
     "end_time": "2020-11-28T12:07:39.442665Z",
     "start_time": "2020-11-28T12:07:39.040708Z"
    }
   },
   "outputs": [],
   "source": [
    "# Compute the mean premium price per postcode\n",
    "df_premium = df_prices.groupby('postcode_sector').mean()  "
   ]
  },
  {
   "cell_type": "markdown",
   "metadata": {},
   "source": [
    "We observe that we have premium price information only for 9186 postcode sectors, instead of the 11049 total postcode sectors"
   ]
  },
  {
   "cell_type": "markdown",
   "metadata": {},
   "source": [
    "### Combining all datasets"
   ]
  },
  {
   "cell_type": "code",
   "execution_count": 208,
   "metadata": {
    "ExecuteTime": {
     "end_time": "2020-11-28T12:07:39.531507Z",
     "start_time": "2020-11-28T12:07:39.446101Z"
    }
   },
   "outputs": [
    {
     "data": {
      "text/html": [
       "<div>\n",
       "<style scoped>\n",
       "    .dataframe tbody tr th:only-of-type {\n",
       "        vertical-align: middle;\n",
       "    }\n",
       "\n",
       "    .dataframe tbody tr th {\n",
       "        vertical-align: top;\n",
       "    }\n",
       "\n",
       "    .dataframe thead th {\n",
       "        text-align: right;\n",
       "    }\n",
       "</style>\n",
       "<table border=\"1\" class=\"dataframe\">\n",
       "  <thead>\n",
       "    <tr style=\"text-align: right;\">\n",
       "      <th></th>\n",
       "      <th>postcode_sector</th>\n",
       "      <th>relative_area</th>\n",
       "      <th>population_density</th>\n",
       "      <th>multiple_deprivation_index</th>\n",
       "      <th>income_deprivation_index</th>\n",
       "      <th>employment_deprivation_index</th>\n",
       "      <th>crime_deprivation_index</th>\n",
       "      <th>rural_urban</th>\n",
       "      <th>distance_to_station</th>\n",
       "      <th>never_worked</th>\n",
       "      <th>region</th>\n",
       "      <th>road_usage</th>\n",
       "      <th>total_offences</th>\n",
       "      <th>vehicle_offences</th>\n",
       "      <th>premium_price</th>\n",
       "    </tr>\n",
       "  </thead>\n",
       "  <tbody>\n",
       "    <tr>\n",
       "      <td>0</td>\n",
       "      <td>AB101</td>\n",
       "      <td>1354.03</td>\n",
       "      <td>53.819802</td>\n",
       "      <td>16.748</td>\n",
       "      <td>0.105</td>\n",
       "      <td>0.091</td>\n",
       "      <td>-0.028</td>\n",
       "      <td>Large urban area</td>\n",
       "      <td>0.829961</td>\n",
       "      <td>Average</td>\n",
       "      <td>Scotland</td>\n",
       "      <td>NaN</td>\n",
       "      <td>NaN</td>\n",
       "      <td>NaN</td>\n",
       "      <td>1089.114048</td>\n",
       "    </tr>\n",
       "    <tr>\n",
       "      <td>1</td>\n",
       "      <td>AB106</td>\n",
       "      <td>458.99</td>\n",
       "      <td>86.465844</td>\n",
       "      <td>16.748</td>\n",
       "      <td>0.105</td>\n",
       "      <td>0.091</td>\n",
       "      <td>-0.028</td>\n",
       "      <td>Large urban area</td>\n",
       "      <td>1.609040</td>\n",
       "      <td>Average</td>\n",
       "      <td>Scotland</td>\n",
       "      <td>NaN</td>\n",
       "      <td>NaN</td>\n",
       "      <td>NaN</td>\n",
       "      <td>681.312556</td>\n",
       "    </tr>\n",
       "    <tr>\n",
       "      <td>2</td>\n",
       "      <td>AB107</td>\n",
       "      <td>1053.10</td>\n",
       "      <td>55.795067</td>\n",
       "      <td>16.748</td>\n",
       "      <td>0.105</td>\n",
       "      <td>0.091</td>\n",
       "      <td>-0.028</td>\n",
       "      <td>Large urban area</td>\n",
       "      <td>2.899283</td>\n",
       "      <td>Average</td>\n",
       "      <td>Scotland</td>\n",
       "      <td>NaN</td>\n",
       "      <td>NaN</td>\n",
       "      <td>NaN</td>\n",
       "      <td>629.203778</td>\n",
       "    </tr>\n",
       "    <tr>\n",
       "      <td>3</td>\n",
       "      <td>AB115</td>\n",
       "      <td>2317.54</td>\n",
       "      <td>60.742963</td>\n",
       "      <td>16.748</td>\n",
       "      <td>0.105</td>\n",
       "      <td>0.091</td>\n",
       "      <td>-0.028</td>\n",
       "      <td>Large urban area</td>\n",
       "      <td>0.773404</td>\n",
       "      <td>Average</td>\n",
       "      <td>Scotland</td>\n",
       "      <td>NaN</td>\n",
       "      <td>NaN</td>\n",
       "      <td>NaN</td>\n",
       "      <td>1935.176471</td>\n",
       "    </tr>\n",
       "    <tr>\n",
       "      <td>4</td>\n",
       "      <td>AB116</td>\n",
       "      <td>918.22</td>\n",
       "      <td>95.784434</td>\n",
       "      <td>16.748</td>\n",
       "      <td>0.105</td>\n",
       "      <td>0.091</td>\n",
       "      <td>-0.028</td>\n",
       "      <td>Large urban area</td>\n",
       "      <td>0.533438</td>\n",
       "      <td>Average</td>\n",
       "      <td>Scotland</td>\n",
       "      <td>NaN</td>\n",
       "      <td>NaN</td>\n",
       "      <td>NaN</td>\n",
       "      <td>718.888242</td>\n",
       "    </tr>\n",
       "  </tbody>\n",
       "</table>\n",
       "</div>"
      ],
      "text/plain": [
       "  postcode_sector  relative_area  population_density  \\\n",
       "0           AB101        1354.03           53.819802   \n",
       "1           AB106         458.99           86.465844   \n",
       "2           AB107        1053.10           55.795067   \n",
       "3           AB115        2317.54           60.742963   \n",
       "4           AB116         918.22           95.784434   \n",
       "\n",
       "   multiple_deprivation_index  income_deprivation_index  \\\n",
       "0                      16.748                     0.105   \n",
       "1                      16.748                     0.105   \n",
       "2                      16.748                     0.105   \n",
       "3                      16.748                     0.105   \n",
       "4                      16.748                     0.105   \n",
       "\n",
       "   employment_deprivation_index  crime_deprivation_index       rural_urban  \\\n",
       "0                         0.091                   -0.028  Large urban area   \n",
       "1                         0.091                   -0.028  Large urban area   \n",
       "2                         0.091                   -0.028  Large urban area   \n",
       "3                         0.091                   -0.028  Large urban area   \n",
       "4                         0.091                   -0.028  Large urban area   \n",
       "\n",
       "   distance_to_station never_worked    region road_usage  total_offences  \\\n",
       "0             0.829961      Average  Scotland        NaN             NaN   \n",
       "1             1.609040      Average  Scotland        NaN             NaN   \n",
       "2             2.899283      Average  Scotland        NaN             NaN   \n",
       "3             0.773404      Average  Scotland        NaN             NaN   \n",
       "4             0.533438      Average  Scotland        NaN             NaN   \n",
       "\n",
       "   vehicle_offences  premium_price  \n",
       "0               NaN    1089.114048  \n",
       "1               NaN     681.312556  \n",
       "2               NaN     629.203778  \n",
       "3               NaN    1935.176471  \n",
       "4               NaN     718.888242  "
      ]
     },
     "execution_count": 208,
     "metadata": {},
     "output_type": "execute_result"
    }
   ],
   "source": [
    "#Let's combine our postcode dataset with the local authority and premium prices dataset (the key is the postcode sector)\n",
    "df = pd.merge(df_postcode, df_authority ,on='postcode_sector',how='left')\n",
    "df = pd.merge(df, df_premium ,on='postcode_sector',how='left')\n",
    "df.head()"
   ]
  },
  {
   "cell_type": "code",
   "execution_count": 209,
   "metadata": {
    "ExecuteTime": {
     "end_time": "2020-11-28T12:07:39.632035Z",
     "start_time": "2020-11-28T12:07:39.537838Z"
    }
   },
   "outputs": [
    {
     "data": {
      "text/html": [
       "<div>\n",
       "<style scoped>\n",
       "    .dataframe tbody tr th:only-of-type {\n",
       "        vertical-align: middle;\n",
       "    }\n",
       "\n",
       "    .dataframe tbody tr th {\n",
       "        vertical-align: top;\n",
       "    }\n",
       "\n",
       "    .dataframe thead th {\n",
       "        text-align: right;\n",
       "    }\n",
       "</style>\n",
       "<table border=\"1\" class=\"dataframe\">\n",
       "  <thead>\n",
       "    <tr style=\"text-align: right;\">\n",
       "      <th></th>\n",
       "      <th>relative_area</th>\n",
       "      <th>population_density</th>\n",
       "      <th>multiple_deprivation_index</th>\n",
       "      <th>income_deprivation_index</th>\n",
       "      <th>employment_deprivation_index</th>\n",
       "      <th>crime_deprivation_index</th>\n",
       "      <th>distance_to_station</th>\n",
       "      <th>total_offences</th>\n",
       "      <th>vehicle_offences</th>\n",
       "      <th>premium_price</th>\n",
       "    </tr>\n",
       "  </thead>\n",
       "  <tbody>\n",
       "    <tr>\n",
       "      <td>count</td>\n",
       "      <td>1.104900e+04</td>\n",
       "      <td>11049.000000</td>\n",
       "      <td>11049.000000</td>\n",
       "      <td>11049.000000</td>\n",
       "      <td>11049.000000</td>\n",
       "      <td>11049.000000</td>\n",
       "      <td>10802.000000</td>\n",
       "      <td>7290.000000</td>\n",
       "      <td>7290.000000</td>\n",
       "      <td>9137.000000</td>\n",
       "    </tr>\n",
       "    <tr>\n",
       "      <td>mean</td>\n",
       "      <td>2.944941e+04</td>\n",
       "      <td>39.764310</td>\n",
       "      <td>21.207778</td>\n",
       "      <td>0.135428</td>\n",
       "      <td>0.112575</td>\n",
       "      <td>0.014776</td>\n",
       "      <td>3.645512</td>\n",
       "      <td>24074.484636</td>\n",
       "      <td>2062.055007</td>\n",
       "      <td>917.064403</td>\n",
       "    </tr>\n",
       "    <tr>\n",
       "      <td>std</td>\n",
       "      <td>7.680114e+04</td>\n",
       "      <td>47.004446</td>\n",
       "      <td>12.736262</td>\n",
       "      <td>0.082094</td>\n",
       "      <td>0.064393</td>\n",
       "      <td>0.611716</td>\n",
       "      <td>7.639011</td>\n",
       "      <td>22507.081726</td>\n",
       "      <td>2201.091528</td>\n",
       "      <td>397.080218</td>\n",
       "    </tr>\n",
       "    <tr>\n",
       "      <td>min</td>\n",
       "      <td>4.900000e-01</td>\n",
       "      <td>0.000000</td>\n",
       "      <td>1.359000</td>\n",
       "      <td>0.010344</td>\n",
       "      <td>0.008469</td>\n",
       "      <td>-2.363734</td>\n",
       "      <td>0.010192</td>\n",
       "      <td>59.000000</td>\n",
       "      <td>5.000000</td>\n",
       "      <td>121.157500</td>\n",
       "    </tr>\n",
       "    <tr>\n",
       "      <td>25%</td>\n",
       "      <td>1.033500e+03</td>\n",
       "      <td>15.618391</td>\n",
       "      <td>13.592035</td>\n",
       "      <td>0.086492</td>\n",
       "      <td>0.075344</td>\n",
       "      <td>-0.355000</td>\n",
       "      <td>0.789229</td>\n",
       "      <td>8738.000000</td>\n",
       "      <td>605.000000</td>\n",
       "      <td>646.392667</td>\n",
       "    </tr>\n",
       "    <tr>\n",
       "      <td>50%</td>\n",
       "      <td>3.262260e+03</td>\n",
       "      <td>32.557088</td>\n",
       "      <td>16.748000</td>\n",
       "      <td>0.105000</td>\n",
       "      <td>0.091000</td>\n",
       "      <td>-0.028000</td>\n",
       "      <td>1.641826</td>\n",
       "      <td>17288.500000</td>\n",
       "      <td>1178.000000</td>\n",
       "      <td>849.347765</td>\n",
       "    </tr>\n",
       "    <tr>\n",
       "      <td>75%</td>\n",
       "      <td>2.165445e+04</td>\n",
       "      <td>50.476471</td>\n",
       "      <td>25.974194</td>\n",
       "      <td>0.166279</td>\n",
       "      <td>0.133281</td>\n",
       "      <td>0.373901</td>\n",
       "      <td>3.731692</td>\n",
       "      <td>29012.000000</td>\n",
       "      <td>3077.000000</td>\n",
       "      <td>1114.800548</td>\n",
       "    </tr>\n",
       "    <tr>\n",
       "      <td>max</td>\n",
       "      <td>3.074884e+06</td>\n",
       "      <td>3267.993529</td>\n",
       "      <td>84.098545</td>\n",
       "      <td>0.580217</td>\n",
       "      <td>0.497000</td>\n",
       "      <td>2.821130</td>\n",
       "      <td>231.957307</td>\n",
       "      <td>114675.000000</td>\n",
       "      <td>12776.000000</td>\n",
       "      <td>8694.675000</td>\n",
       "    </tr>\n",
       "  </tbody>\n",
       "</table>\n",
       "</div>"
      ],
      "text/plain": [
       "       relative_area  population_density  multiple_deprivation_index  \\\n",
       "count   1.104900e+04        11049.000000                11049.000000   \n",
       "mean    2.944941e+04           39.764310                   21.207778   \n",
       "std     7.680114e+04           47.004446                   12.736262   \n",
       "min     4.900000e-01            0.000000                    1.359000   \n",
       "25%     1.033500e+03           15.618391                   13.592035   \n",
       "50%     3.262260e+03           32.557088                   16.748000   \n",
       "75%     2.165445e+04           50.476471                   25.974194   \n",
       "max     3.074884e+06         3267.993529                   84.098545   \n",
       "\n",
       "       income_deprivation_index  employment_deprivation_index  \\\n",
       "count              11049.000000                  11049.000000   \n",
       "mean                   0.135428                      0.112575   \n",
       "std                    0.082094                      0.064393   \n",
       "min                    0.010344                      0.008469   \n",
       "25%                    0.086492                      0.075344   \n",
       "50%                    0.105000                      0.091000   \n",
       "75%                    0.166279                      0.133281   \n",
       "max                    0.580217                      0.497000   \n",
       "\n",
       "       crime_deprivation_index  distance_to_station  total_offences  \\\n",
       "count             11049.000000         10802.000000     7290.000000   \n",
       "mean                  0.014776             3.645512    24074.484636   \n",
       "std                   0.611716             7.639011    22507.081726   \n",
       "min                  -2.363734             0.010192       59.000000   \n",
       "25%                  -0.355000             0.789229     8738.000000   \n",
       "50%                  -0.028000             1.641826    17288.500000   \n",
       "75%                   0.373901             3.731692    29012.000000   \n",
       "max                   2.821130           231.957307   114675.000000   \n",
       "\n",
       "       vehicle_offences  premium_price  \n",
       "count       7290.000000    9137.000000  \n",
       "mean        2062.055007     917.064403  \n",
       "std         2201.091528     397.080218  \n",
       "min            5.000000     121.157500  \n",
       "25%          605.000000     646.392667  \n",
       "50%         1178.000000     849.347765  \n",
       "75%         3077.000000    1114.800548  \n",
       "max        12776.000000    8694.675000  "
      ]
     },
     "execution_count": 209,
     "metadata": {},
     "output_type": "execute_result"
    }
   ],
   "source": [
    "df.describe()"
   ]
  },
  {
   "cell_type": "code",
   "execution_count": 210,
   "metadata": {
    "ExecuteTime": {
     "end_time": "2020-11-28T12:07:39.658735Z",
     "start_time": "2020-11-28T12:07:39.641701Z"
    }
   },
   "outputs": [
    {
     "data": {
      "text/plain": [
       "postcode_sector                  object\n",
       "relative_area                   float64\n",
       "population_density              float64\n",
       "multiple_deprivation_index      float64\n",
       "income_deprivation_index        float64\n",
       "employment_deprivation_index    float64\n",
       "crime_deprivation_index         float64\n",
       "rural_urban                      object\n",
       "distance_to_station             float64\n",
       "never_worked                     object\n",
       "region                           object\n",
       "road_usage                       object\n",
       "total_offences                  float64\n",
       "vehicle_offences                float64\n",
       "premium_price                   float64\n",
       "dtype: object"
      ]
     },
     "execution_count": 210,
     "metadata": {},
     "output_type": "execute_result"
    }
   ],
   "source": [
    "df.dtypes"
   ]
  },
  {
   "cell_type": "code",
   "execution_count": 211,
   "metadata": {
    "ExecuteTime": {
     "end_time": "2020-11-28T12:07:39.682174Z",
     "start_time": "2020-11-28T12:07:39.668932Z"
    }
   },
   "outputs": [],
   "source": [
    "#Convert road_usage type variable into float64\n",
    "df['road_usage'] = df['road_usage'].replace({'..': None})\n",
    "df['road_usage'] = df['road_usage'].astype(float)"
   ]
  },
  {
   "cell_type": "markdown",
   "metadata": {},
   "source": [
    "We observe that there are some anomalies in the variable never_worked that we will deal with in the section outliers"
   ]
  },
  {
   "cell_type": "markdown",
   "metadata": {},
   "source": [
    "## Target analysis"
   ]
  },
  {
   "cell_type": "code",
   "execution_count": 212,
   "metadata": {
    "ExecuteTime": {
     "end_time": "2020-11-28T12:07:39.947884Z",
     "start_time": "2020-11-28T12:07:39.687678Z"
    }
   },
   "outputs": [
    {
     "data": {
      "image/png": "[encoded data removed]",
      "text/plain": [
       "<Figure size 504x504 with 1 Axes>"
      ]
     },
     "metadata": {
      "needs_background": "light"
     },
     "output_type": "display_data"
    }
   ],
   "source": [
    "fig, ax = plt.subplots()\n",
    "# the size of A4 paper\n",
    "fig.set_size_inches(7, 7)\n",
    "ax = sns.boxplot(y=\"premium_price\" , data=df)"
   ]
  },
  {
   "cell_type": "markdown",
   "metadata": {},
   "source": [
    "We can observe that there are outliers that flatten the box-plot of the target variable. We will deal with them in the next session."
   ]
  },
  {
   "cell_type": "markdown",
   "metadata": {},
   "source": [
    "## Data Cleaning"
   ]
  },
  {
   "cell_type": "markdown",
   "metadata": {},
   "source": [
    "### Missing values cleaning"
   ]
  },
  {
   "cell_type": "code",
   "execution_count": 213,
   "metadata": {
    "ExecuteTime": {
     "end_time": "2020-11-28T12:07:40.527589Z",
     "start_time": "2020-11-28T12:07:40.513194Z"
    }
   },
   "outputs": [
    {
     "data": {
      "text/plain": [
       "postcode_sector                    0\n",
       "relative_area                      0\n",
       "population_density                 0\n",
       "multiple_deprivation_index         0\n",
       "income_deprivation_index           0\n",
       "employment_deprivation_index       0\n",
       "crime_deprivation_index            0\n",
       "rural_urban                        0\n",
       "distance_to_station              247\n",
       "never_worked                       0\n",
       "region                             0\n",
       "road_usage                      6061\n",
       "total_offences                  3759\n",
       "vehicle_offences                3759\n",
       "premium_price                   1912\n",
       "dtype: int64"
      ]
     },
     "execution_count": 213,
     "metadata": {},
     "output_type": "execute_result"
    }
   ],
   "source": [
    "df.isnull().sum()"
   ]
  },
  {
   "cell_type": "markdown",
   "metadata": {},
   "source": [
    "We observe a few missing values. \n",
    "- We choose to drop the missing values associated with premium price (the variable to predict), not to put too much bias into our model. We won't replace missing values for the target\n",
    "- We will also delete the 247 missing values for distance_to_station as it reprensents around 2% rows of the datasets\n",
    "- For the other 3 variables with missing values (road_usage, total_offences and vehicle_offenses), we choose to replace all the missing value by the mean value according the region, in order to best approximate the missing values. A next step would be to take the mean according the the urban_rural AND region variables"
   ]
  },
  {
   "cell_type": "code",
   "execution_count": 214,
   "metadata": {
    "ExecuteTime": {
     "end_time": "2020-11-28T12:07:40.844329Z",
     "start_time": "2020-11-28T12:07:40.833847Z"
    }
   },
   "outputs": [],
   "source": [
    "df = df.dropna(subset = ['premium_price', 'distance_to_station'])"
   ]
  },
  {
   "cell_type": "code",
   "execution_count": 215,
   "metadata": {
    "ExecuteTime": {
     "end_time": "2020-11-28T12:07:41.013281Z",
     "start_time": "2020-11-28T12:07:40.994035Z"
    }
   },
   "outputs": [],
   "source": [
    "df[\"vehicle_offences\"] = df['vehicle_offences'].fillna(df.groupby('region')['vehicle_offences'].transform('mean'))\n",
    "df[\"total_offences\"] = df['total_offences'].fillna(df.groupby('region')['total_offences'].transform('mean'))\n",
    "df[\"road_usage\"] = df['road_usage'].fillna(df['road_usage'].mean())"
   ]
  },
  {
   "cell_type": "markdown",
   "metadata": {},
   "source": [
    "### Deal with the outliers of premium prices"
   ]
  },
  {
   "cell_type": "code",
   "execution_count": 216,
   "metadata": {
    "ExecuteTime": {
     "end_time": "2020-11-28T12:07:41.329098Z",
     "start_time": "2020-11-28T12:07:41.311115Z"
    }
   },
   "outputs": [
    {
     "data": {
      "text/plain": [
       "count    8906.000000\n",
       "mean      916.895659\n",
       "std       398.098331\n",
       "min       121.157500\n",
       "25%       645.526211\n",
       "50%       849.194253\n",
       "75%      1115.162555\n",
       "max      8694.675000\n",
       "Name: premium_price, dtype: float64"
      ]
     },
     "execution_count": 216,
     "metadata": {},
     "output_type": "execute_result"
    }
   ],
   "source": [
    "df['premium_price'].describe()"
   ]
  },
  {
   "cell_type": "code",
   "execution_count": 217,
   "metadata": {
    "ExecuteTime": {
     "end_time": "2020-11-28T12:07:41.474247Z",
     "start_time": "2020-11-28T12:07:41.468232Z"
    }
   },
   "outputs": [],
   "source": [
    "# For the outliers, we will use Z-score strategy \n",
    "#to identify Data point that falls outside of 3 standard deviations \n",
    "#z_score = np.abs(stats.zscore(df.premium_price))\n",
    "threshold = 3\n",
    "outliers = df[(z_score > 3)]"
   ]
  },
  {
   "cell_type": "markdown",
   "metadata": {},
   "source": [
    "With this method, we only have 84 outliers (less than 1% of the dataset), so we will delete them"
   ]
  },
  {
   "cell_type": "code",
   "execution_count": 218,
   "metadata": {
    "ExecuteTime": {
     "end_time": "2020-11-28T12:07:41.821670Z",
     "start_time": "2020-11-28T12:07:41.813349Z"
    }
   },
   "outputs": [],
   "source": [
    "# Delete the outliers\n",
    "df = df.drop(outliers.index)"
   ]
  },
  {
   "cell_type": "markdown",
   "metadata": {},
   "source": [
    "In order to see if there are absurd values in qualitative data, we did a quick value count on each qualitative variable. We observe that there are 16 absurd values for the variable never_worked. Indeed, in the datasets description, it is said that we should have \"high\" or \"average\" modalities."
   ]
  },
  {
   "cell_type": "code",
   "execution_count": 219,
   "metadata": {
    "ExecuteTime": {
     "end_time": "2020-11-28T12:07:42.202675Z",
     "start_time": "2020-11-28T12:07:42.193644Z"
    }
   },
   "outputs": [
    {
     "data": {
      "text/plain": [
       "Average               7959\n",
       "High                   847\n",
       "['Average' 'High']      16\n",
       "Name: never_worked, dtype: int64"
      ]
     },
     "execution_count": 219,
     "metadata": {},
     "output_type": "execute_result"
    }
   ],
   "source": [
    "df['never_worked'].value_counts()"
   ]
  },
  {
   "cell_type": "markdown",
   "metadata": {},
   "source": [
    "We choose to delete the \"['Average' 'High']\" modality"
   ]
  },
  {
   "cell_type": "code",
   "execution_count": 220,
   "metadata": {
    "ExecuteTime": {
     "end_time": "2020-11-28T12:07:42.700742Z",
     "start_time": "2020-11-28T12:07:42.688149Z"
    }
   },
   "outputs": [],
   "source": [
    "df['never_worked'] = df['never_worked'][df['never_worked'] != \"['Average' 'High']\"]"
   ]
  },
  {
   "cell_type": "markdown",
   "metadata": {},
   "source": [
    "## Variables correlation analysis"
   ]
  },
  {
   "cell_type": "markdown",
   "metadata": {},
   "source": [
    "### Quantative variables correlation"
   ]
  },
  {
   "cell_type": "code",
   "execution_count": 221,
   "metadata": {
    "ExecuteTime": {
     "end_time": "2020-11-28T12:07:44.104066Z",
     "start_time": "2020-11-28T12:07:43.336678Z"
    }
   },
   "outputs": [
    {
     "data": {
      "image/png": "[encoded data removed]",
      "text/plain": [
       "<Figure size 1080x576 with 2 Axes>"
      ]
     },
     "metadata": {
      "needs_background": "light"
     },
     "output_type": "display_data"
    }
   ],
   "source": [
    "#Display the correlation matrix between the variables \n",
    "base_correlation = df._get_numeric_data()\n",
    "corrMatrix = base_correlation.corr()\n",
    "plt.figure(figsize = (15,8))\n",
    "sns.heatmap(corrMatrix, annot=True, square=True, linewidths=.3)\n",
    "\n",
    "# fix for mpl bug that cuts off top/bottom of seaborn viz\n",
    "b, t = plt.ylim() # discover the values for bottom and top\n",
    "b += 0.5 # Add 0.5 to the bottom\n",
    "t -= 0.5 # Subtract 0.5 from the top\n",
    "plt.ylim(b, t) # update the ylim(bottom, top) values\n",
    "plt.show()"
   ]
  },
  {
   "cell_type": "markdown",
   "metadata": {},
   "source": [
    "There seems to be strong correlation betweeen some numerical variable and our variable to predict (premium), as for example the crime_deprivation_index, the employment_deprivation_index and vehicle offenses, with correlation coefficients > 0.3 or < -0.3. However, there is a problem a multicollinearity between the predictors, that we should cope with. Indeed, some variables are correlated with each other, so we should not all include them in our model to avoid redundancy. For example multiple_deprivation_index, employment_deprivation_index and multiple_deprivation_index are strongly positevely correlated between each others."
   ]
  },
  {
   "cell_type": "markdown",
   "metadata": {},
   "source": [
    "### Correlation between the mean premium price and the qualitative variables"
   ]
  },
  {
   "cell_type": "code",
   "execution_count": 222,
   "metadata": {
    "ExecuteTime": {
     "end_time": "2020-11-28T12:07:44.635965Z",
     "start_time": "2020-11-28T12:07:44.113949Z"
    }
   },
   "outputs": [
    {
     "data": {
      "image/png": "[encoded data removed]",
      "text/plain": [
       "<Figure size 1296x648 with 1 Axes>"
      ]
     },
     "metadata": {
      "needs_background": "light"
     },
     "output_type": "display_data"
    }
   ],
   "source": [
    "# Display the distribution of premium price according to the region\n",
    "fig, ax = plt.subplots()\n",
    "fig.set_size_inches(18, 9)\n",
    "ax = sns.boxplot(x=\"region\", y=\"premium_price\" , data=df)"
   ]
  },
  {
   "cell_type": "code",
   "execution_count": 223,
   "metadata": {
    "ExecuteTime": {
     "end_time": "2020-11-28T12:07:44.902289Z",
     "start_time": "2020-11-28T12:07:44.642969Z"
    }
   },
   "outputs": [
    {
     "data": {
      "image/png": "[encoded data removed]",
      "text/plain": [
       "<Figure size 864x648 with 1 Axes>"
      ]
     },
     "metadata": {
      "needs_background": "light"
     },
     "output_type": "display_data"
    }
   ],
   "source": [
    "# Display the distribution of premium price according to the proportion of residents that have never worked\n",
    "fig, ax = plt.subplots()\n",
    "fig.set_size_inches(12, 9)\n",
    "ax = sns.boxplot(x=\"never_worked\", y=\"premium_price\" , data=df)"
   ]
  },
  {
   "cell_type": "markdown",
   "metadata": {},
   "source": [
    "# MODELLING"
   ]
  },
  {
   "cell_type": "markdown",
   "metadata": {},
   "source": [
    "## Defining metrics"
   ]
  },
  {
   "cell_type": "markdown",
   "metadata": {},
   "source": [
    "As a criteria of evaluation, we choose the RMSE score to evaluate our error, because we are facing a regression problem and we want to penalize large errors more."
   ]
  },
  {
   "cell_type": "code",
   "execution_count": 224,
   "metadata": {
    "ExecuteTime": {
     "end_time": "2020-11-28T12:07:47.258797Z",
     "start_time": "2020-11-28T12:07:47.252469Z"
    }
   },
   "outputs": [],
   "source": [
    "# RMSE\n",
    "from sklearn.metrics import mean_squared_error\n",
    "from math import sqrt\n",
    "def rmse(y_actual, y_predict):\n",
    "    rmse = sqrt(mean_squared_error(y_actual, y_predict))\n",
    "    return rmse"
   ]
  },
  {
   "cell_type": "markdown",
   "metadata": {},
   "source": [
    "## Features Engineering"
   ]
  },
  {
   "cell_type": "code",
   "execution_count": 227,
   "metadata": {
    "ExecuteTime": {
     "end_time": "2020-11-28T12:13:58.935185Z",
     "start_time": "2020-11-28T12:13:58.907053Z"
    }
   },
   "outputs": [],
   "source": [
    "#Converting categorical data\n",
    "df = df.join(pd.get_dummies(df['region'], prefix='r'))\n",
    "df = df.join(pd.get_dummies(df['never_worked'], prefix='nw'))\n",
    "\n",
    "#Delete useless columns - We won't include rural_urban feature in our model for a matter of time\n",
    "df = df.drop(['region', 'never_worked', 'rural_urban'], axis = 1)"
   ]
  },
  {
   "cell_type": "markdown",
   "metadata": {},
   "source": [
    "## Split into X & Y"
   ]
  },
  {
   "cell_type": "code",
   "execution_count": 229,
   "metadata": {
    "ExecuteTime": {
     "end_time": "2020-11-28T12:14:18.163284Z",
     "start_time": "2020-11-28T12:14:18.145668Z"
    }
   },
   "outputs": [],
   "source": [
    "X = df.drop(['postcode_sector', 'premium_price'], axis=1)\n",
    "y = df['premium_price']\n",
    "X_train, X_test, y_train, y_test = train_test_split(X, y, test_size=0.2, random_state=42)"
   ]
  },
  {
   "cell_type": "markdown",
   "metadata": {},
   "source": [
    "## Features importance & selection"
   ]
  },
  {
   "cell_type": "markdown",
   "metadata": {},
   "source": [
    "### Random Forest Feature Importance"
   ]
  },
  {
   "cell_type": "code",
   "execution_count": 234,
   "metadata": {
    "ExecuteTime": {
     "end_time": "2020-11-28T12:16:24.647738Z",
     "start_time": "2020-11-28T12:16:24.054756Z"
    }
   },
   "outputs": [
    {
     "data": {
      "image/png": "[encoded data removed]",
      "text/plain": [
       "<Figure size 936x288 with 1 Axes>"
      ]
     },
     "metadata": {
      "needs_background": "light"
     },
     "output_type": "display_data"
    }
   ],
   "source": [
    "# define the model\n",
    "model_rf = RandomForestRegressor(\n",
    "         n_estimators=10, max_depth=10)\n",
    "\n",
    "# fit the model\n",
    "model_rf.fit(X_train, y_train)\n",
    "\n",
    "# Get importance\n",
    "ordering = np.argsort(model_rf.feature_importances_)[::-1][:50]\n",
    "\n",
    "importances = model_rf.feature_importances_[ordering]\n",
    "\n",
    "x = np.arange(len(features))\n",
    "fig = plt.figure(figsize=(13,4))\n",
    "plt.bar(x, importances)\n",
    "plt.xticks(x + 0.5, features, rotation=90, fontsize=15);"
   ]
  },
  {
   "cell_type": "markdown",
   "metadata": {},
   "source": [
    "## Model testing"
   ]
  },
  {
   "cell_type": "markdown",
   "metadata": {
    "ExecuteTime": {
     "end_time": "2020-11-28T12:24:49.891620Z",
     "start_time": "2020-11-28T12:24:49.886894Z"
    }
   },
   "source": [
    "### Random Forest training"
   ]
  },
  {
   "cell_type": "code",
   "execution_count": 305,
   "metadata": {
    "ExecuteTime": {
     "end_time": "2020-11-28T12:27:49.584154Z",
     "start_time": "2020-11-28T12:27:48.716552Z"
    }
   },
   "outputs": [
    {
     "data": {
      "text/plain": [
       "RandomForestRegressor(bootstrap=True, criterion='mse', max_depth=8,\n",
       "                      max_features=15, max_leaf_nodes=None,\n",
       "                      min_impurity_decrease=0.0, min_impurity_split=None,\n",
       "                      min_samples_leaf=1, min_samples_split=2,\n",
       "                      min_weight_fraction_leaf=0.0, n_estimators=50,\n",
       "                      n_jobs=None, oob_score=False, random_state=None,\n",
       "                      verbose=0, warm_start=False)"
      ]
     },
     "execution_count": 305,
     "metadata": {},
     "output_type": "execute_result"
    }
   ],
   "source": [
    "# Regressor choice with basic parameters\n",
    "model_rf = RandomForestRegressor(\n",
    "         n_estimators=50, max_depth=8, max_features = 15)\n",
    "\n",
    "model_rf.fit(X_train, y_train)"
   ]
  },
  {
   "cell_type": "code",
   "execution_count": 306,
   "metadata": {
    "ExecuteTime": {
     "end_time": "2020-11-28T12:27:49.622621Z",
     "start_time": "2020-11-28T12:27:49.590611Z"
    }
   },
   "outputs": [
    {
     "name": "stdout",
     "output_type": "stream",
     "text": [
      "263.61192548867086\n"
     ]
    }
   ],
   "source": [
    "#predictions\n",
    "predict_rf = model_rf.predict(X_test)\n",
    "print(rmse(y_test, predict_rf))"
   ]
  },
  {
   "cell_type": "markdown",
   "metadata": {},
   "source": [
    "# NEXT STEPS"
   ]
  },
  {
   "cell_type": "markdown",
   "metadata": {},
   "source": [
    "Next steps to go further:\n",
    "    - We could have kept the feature rural_urban and cluster it into several classes\n",
    "    - For the linear regression, we should have normalized the data\n",
    "    - To improve our RMSE we could have fine-tuned the parameters of our model with Gridsearch \n",
    "    - We could have taken other metrics (R2 for accuracy) to evaluate our model"
   ]
  }
 ],
 "metadata": {
  "hide_input": false,
  "kernelspec": {
   "display_name": "Python 3",
   "language": "python",
   "name": "python3"
  },
  "language_info": {
   "codemirror_mode": {
    "name": "ipython",
    "version": 3
   },
   "file_extension": ".py",
   "mimetype": "text/x-python",
   "name": "python",
   "nbconvert_exporter": "python",
   "pygments_lexer": "ipython3",
   "version": "3.7.4"
  },
  "toc": {
   "base_numbering": 1,
   "nav_menu": {},
   "number_sections": true,
   "sideBar": true,
   "skip_h1_title": false,
   "title_cell": "Table of Contents",
   "title_sidebar": "Contents",
   "toc_cell": false,
   "toc_position": {
    "height": "calc(100% - 180px)",
    "left": "10px",
    "top": "150px",
    "width": "288px"
   },
   "toc_section_display": true,
   "toc_window_display": true
  }
 },
 "nbformat": 4,
 "nbformat_minor": 2
}
